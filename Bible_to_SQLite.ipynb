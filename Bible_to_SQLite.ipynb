{
 "cells": [
  {
   "cell_type": "code",
   "execution_count": 2,
   "metadata": {},
   "outputs": [],
   "source": [
    "import json\n",
    "import sqlite3"
   ]
  },
  {
   "cell_type": "code",
   "execution_count": 3,
   "metadata": {},
   "outputs": [],
   "source": [
    "con = sqlite3.connect(\"local.db\")\n",
    "cur = con.cursor()"
   ]
  },
  {
   "cell_type": "code",
   "execution_count": 7,
   "metadata": {},
   "outputs": [],
   "source": [
    "cur.execute(\"CREATE TABLE Book (\\\n",
    "    abbrev          CHAR (2)  PRIMARY KEY\\\n",
    "                              UNIQUE\\\n",
    "                              NOT NULL,\\\n",
    "    full_name       CHAR (50) NOT NULL,\\\n",
    "    number_in_order INTEGER   UNIQUE\\\n",
    "                              NOT NULL\\\n",
    ");\\\n",
    "\")\n",
    "cur.execute(\"CREATE TABLE Chapter (\\\n",
    "    id      INTEGER  PRIMARY KEY AUTOINCREMENT\\\n",
    "                     UNIQUE\\\n",
    "                     NOT NULL,\\\n",
    "    book_of CHAR (2) REFERENCES Book (abbrev) \\\n",
    "                     NOT NULL,\\\n",
    "    number  INTEGER  NOT NULL\\\n",
    ");\\\n",
    "\")\n",
    "cur.execute(\"CREATE TABLE Verse (\\\n",
    "    id         INTEGER PRIMARY KEY AUTOINCREMENT\\\n",
    "                       NOT NULL\\\n",
    "                       UNIQUE,\\\n",
    "    chapter_of INTEGER REFERENCES Chapter (id) \\\n",
    "                       NOT NULL,\\\n",
    "    number     INTEGER NOT NULL,\\\n",
    "    text       TEXT    NOT NULL\\\n",
    ");\\\n",
    "\")\n",
    "con.commit()"
   ]
  },
  {
   "cell_type": "code",
   "execution_count": 4,
   "metadata": {},
   "outputs": [],
   "source": [
    "with open(\"ru.json\", encoding=\"utf-8\") as f:\n",
    "    Bible = json.load(f)\n",
    "with open(\"transitions.json\", encoding=\"utf-8\") as f:\n",
    "    abbrevs = json.load(f)"
   ]
  },
  {
   "cell_type": "code",
   "execution_count": 9,
   "metadata": {},
   "outputs": [],
   "source": [
    "for book_num, book in enumerate(Bible):\n",
    "    cur.execute(f\"INSERT INTO Book (abbrev, full_name, number_in_order) VALUES ('{book}', '{abbrevs[book]}', {book_num + 1})\")\n",
    "    for chapter, ch_text in enumerate(Bible[book]):\n",
    "        cur.execute(f\"INSERT INTO Chapter (book_of, number) VALUES ('{book}', {chapter + 1})\")\n",
    "        chapter_of = cur.lastrowid\n",
    "        for verse, ve_text in enumerate(ch_text):\n",
    "            cur.execute(f\"INSERT INTO Verse (chapter_of, number, text) VALUES ({chapter_of}, {verse + 1}, '{ve_text}')\")\n",
    "con.commit()"
   ]
  },
  {
   "cell_type": "code",
   "execution_count": 7,
   "metadata": {},
   "outputs": [
    {
     "data": {
      "text/plain": [
       "{1: 'В начале сотворил Бог небо и землю.',\n",
       " 2: 'Земля же была безвидна и пуста, и тьма над бездною, и Дух Божий носился над водою.',\n",
       " 3: 'И сказал Бог: да будет свет. И сталсвет.',\n",
       " 4: 'И увидел Бог свет, что он хорош, и отделил Бог свет от тьмы.',\n",
       " 5: 'И назвал Бог свет днем, а тьму ночью. И был вечер, и было утро: день один.',\n",
       " 6: 'И сказал Бог: да будет твердь посреди воды, и да отделяет она воду от воды.',\n",
       " 7: 'И создал Бог твердь, и отделил воду, которая подтвердью, от воды, которая над твердью. И стало так.',\n",
       " 8: 'И назвал Бог твердь небом. И был вечер, и было утро: день второй.',\n",
       " 9: 'И сказал Бог: да соберется вода, которая под небом, в одно место, и да явится суша. И стало так.',\n",
       " 10: 'И назвал Бог сушу землею, а собрание вод назвал морями. И увидел Бог, что это хорошо.',\n",
       " 11: 'И сказал Бог: да произрастит земля зелень, траву, сеющую семя дерево плодовитое, приносящее по роду своему плод, в котором семя его на земле. И стало так.',\n",
       " 12: 'И произвела земля зелень, траву, сеющую семя по роду ее, и дерево, приносящее плод, в котором семя его по роду его. И увидел Бог, что это хорошо.',\n",
       " 13: 'И был вечер, и было утро: день третий.',\n",
       " 14: 'И сказал Бог: да будут светила на тверди небесной для отделения дня от ночи, и для знамений, и времен, и дней, и годов;',\n",
       " 15: 'и да будут они светильниками на тверди небесной, чтобы светить на землю. И стало так.',\n",
       " 16: 'И создал Бог два светила великие: светило большее, для управления днем, и светило меньшее, для управления ночью, и звезды;',\n",
       " 17: 'и поставил их Бог на тверди небесной, чтобы светить на землю,',\n",
       " 18: 'и управлять днем и ночью, и отделять свет от тьмы. И увидел Бог, что это хорошо.',\n",
       " 19: 'И был вечер, и было утро: день четвертый.',\n",
       " 20: 'И сказал Бог: да произведет вода пресмыкающихся, душу живую; и птицы да полетят над землею, по тверди небесной.',\n",
       " 21: 'И сотворил Бог рыб больших и всякую душу животных пресмыкающихся, которых произвела вода, по роду их, и всякую птицу пернатую по роду ее. И увидел Бог, что это хорошо.',\n",
       " 22: 'И благословил их Бог, говоря: плодитесь и размножайтесь, и наполняйте воды в морях, и птицы да размножаются на земле.',\n",
       " 23: 'И был вечер, и было утро: день пятый.',\n",
       " 24: 'И сказал Бог: да произведет земля душу живую по роду ее, скотов, и гадов, и зверей земных по роду их. И стало так.',\n",
       " 25: 'И создал Бог зверей земных по роду их, и скот по роду его, и всехгадов земных по роду их. И увидел Бог, что это хорошо.',\n",
       " 26: 'И сказал Бог: сотворим человека по образу Нашему по подобию Нашему,и да владычествуют они над рыбами морскими, и над птицами небесными, и над скотом, и над всею землею, и над всеми гадами, пресмыкающимися по земле.',\n",
       " 27: 'И сотворил Бог человека по образу Своему, по образу Божию сотворил его; мужчину и женщину сотворил их.',\n",
       " 28: 'И благословил их Бог, и сказал им Бог: плодитесь и размножайтесь, и наполняйте землю, и обладайте ею, и владычествуйте над рыбами морскими и над птицами небесными, и над всяким животным, пресмыкающимся по земле.',\n",
       " 29: 'И сказал Бог: вот, Я дал вам всякую траву, сеющую семя, какая есть на всей земле, и всякое дерево, у которого плод древесный, сеющий семя; – вам сие будет в пищу;',\n",
       " 30: 'а всем зверям земным, и всем птицам небесным, и всякому пресмыкающемуся по земле, вкотором душа живая, дал Я всю зелень травную в пищу. И стало так.',\n",
       " 31: 'И увидел Бог все, что Он создал, и вот, хорошо весьма. И был вечер, и было утро: день шестой.'}"
      ]
     },
     "execution_count": 7,
     "metadata": {},
     "output_type": "execute_result"
    }
   ],
   "source": [
    "result = cur.execute(\"SELECT v.number, v.text FROM Verse v \\\n",
    "                    WHERE v.chapter_of = (\\\n",
    "                    SELECT c.id FROM Chapter c WHERE c.book_of = 'бт' \\\n",
    "                    AND c.number = 1)\").fetchall()\n",
    "dict(result)"
   ]
  },
  {
   "cell_type": "code",
   "execution_count": null,
   "metadata": {},
   "outputs": [],
   "source": [
    "\"\"\" Поиск стиха SELECT v.text FROM Verse v WHERE v.chapter_of = (\n",
    "SELECT c.id FROM Chapter c WHERE c.book_of = 'бт' AND c.number = 1) AND v.number = 1\n",
    "LIMIT 1600; \"\"\"\n",
    "\n",
    "\"\"\" Поиск текста -- SELECT v.text FROM Verse v WHERE v.text LIKE '%не бойся%'; \"\"\"\n"
   ]
  }
 ],
 "metadata": {
  "interpreter": {
   "hash": "62717988da3a1748178a99c6c0a6b3a99819a78a32e9666064d8381545836fe7"
  },
  "kernelspec": {
   "display_name": "Python 3.8.7 64-bit",
   "language": "python",
   "name": "python3"
  },
  "language_info": {
   "codemirror_mode": {
    "name": "ipython",
    "version": 3
   },
   "file_extension": ".py",
   "mimetype": "text/x-python",
   "name": "python",
   "nbconvert_exporter": "python",
   "pygments_lexer": "ipython3",
   "version": "3.8.7"
  },
  "orig_nbformat": 4
 },
 "nbformat": 4,
 "nbformat_minor": 2
}
