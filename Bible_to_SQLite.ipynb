{
 "cells": [
  {
   "cell_type": "code",
   "execution_count": 1,
   "metadata": {},
   "outputs": [],
   "source": [
    "import json\n",
    "import sqlite3"
   ]
  },
  {
   "cell_type": "code",
   "execution_count": 6,
   "metadata": {},
   "outputs": [],
   "source": [
    "con = sqlite3.connect(\"local.db\")\n",
    "cur = con.cursor()"
   ]
  },
  {
   "cell_type": "code",
   "execution_count": 7,
   "metadata": {},
   "outputs": [],
   "source": [
    "cur.execute(\"CREATE TABLE Book (\\\n",
    "    abbrev          CHAR (2)  PRIMARY KEY\\\n",
    "                              UNIQUE\\\n",
    "                              NOT NULL,\\\n",
    "    full_name       CHAR (50) NOT NULL,\\\n",
    "    number_in_order INTEGER   UNIQUE\\\n",
    "                              NOT NULL\\\n",
    ");\\\n",
    "\")\n",
    "cur.execute(\"CREATE TABLE Chapter (\\\n",
    "    id      INTEGER  PRIMARY KEY AUTOINCREMENT\\\n",
    "                     UNIQUE\\\n",
    "                     NOT NULL,\\\n",
    "    book_of CHAR (2) REFERENCES Book (abbrev) \\\n",
    "                     NOT NULL,\\\n",
    "    number  INTEGER  NOT NULL\\\n",
    ");\\\n",
    "\")\n",
    "cur.execute(\"CREATE TABLE Verse (\\\n",
    "    id         INTEGER PRIMARY KEY AUTOINCREMENT\\\n",
    "                       NOT NULL\\\n",
    "                       UNIQUE,\\\n",
    "    chapter_of INTEGER REFERENCES Chapter (id) \\\n",
    "                       NOT NULL,\\\n",
    "    number     INTEGER NOT NULL,\\\n",
    "    text       TEXT    NOT NULL\\\n",
    ");\\\n",
    "\")\n",
    "con.commit()"
   ]
  },
  {
   "cell_type": "code",
   "execution_count": 8,
   "metadata": {},
   "outputs": [],
   "source": [
    "with open(\"ru.json\", encoding=\"utf-8\") as f:\n",
    "    Bible = json.load(f)\n",
    "with open(\"transitions.json\", encoding=\"utf-8\") as f:\n",
    "    abbrevs = json.load(f)"
   ]
  },
  {
   "cell_type": "code",
   "execution_count": 9,
   "metadata": {},
   "outputs": [],
   "source": [
    "for book_num, book in enumerate(Bible):\n",
    "    cur.execute(f\"INSERT INTO Book (abbrev, full_name, number_in_order) VALUES ('{book}', '{abbrevs[book]}', {book_num + 1})\")\n",
    "    for chapter, ch_text in enumerate(Bible[book]):\n",
    "        cur.execute(f\"INSERT INTO Chapter (book_of, number) VALUES ('{book}', {chapter + 1})\")\n",
    "        chapter_of = cur.lastrowid\n",
    "        for verse, ve_text in enumerate(ch_text):\n",
    "            cur.execute(f\"INSERT INTO Verse (chapter_of, number, text) VALUES ({chapter_of}, {verse + 1}, '{ve_text}')\")\n",
    "con.commit()"
   ]
  },
  {
   "cell_type": "code",
   "execution_count": 29,
   "metadata": {},
   "outputs": [
    {
     "data": {
      "text/plain": [
       "'В начале сотворил Бог небо и землю.'"
      ]
     },
     "execution_count": 29,
     "metadata": {},
     "output_type": "execute_result"
    }
   ],
   "source": [
    "cur.execute(\"SELECT v.text FROM Verse v WHERE v.chapter_of = (SELECT c.id FROM Chapter c WHERE c.book_of = 'бт' AND c.number = 1) AND v.number = 1;\").fetchall()[0][0]"
   ]
  },
  {
   "cell_type": "code",
   "execution_count": null,
   "metadata": {},
   "outputs": [],
   "source": [
    "\"\"\" Поиск стиха SELECT v.text FROM Verse v WHERE v.chapter_of = (\n",
    "SELECT c.id FROM Chapter c WHERE c.book_of = 'бт' AND c.number = 1) AND v.number = 1\n",
    "LIMIT 1600; \"\"\"\n",
    "\n",
    "\"\"\" Поиск текста -- SELECT v.text FROM Verse v WHERE v.text LIKE '%не бойся%'; \"\"\"\n"
   ]
  }
 ],
 "metadata": {
  "interpreter": {
   "hash": "62717988da3a1748178a99c6c0a6b3a99819a78a32e9666064d8381545836fe7"
  },
  "kernelspec": {
   "display_name": "Python 3.8.7 64-bit",
   "language": "python",
   "name": "python3"
  },
  "language_info": {
   "codemirror_mode": {
    "name": "ipython",
    "version": 3
   },
   "file_extension": ".py",
   "mimetype": "text/x-python",
   "name": "python",
   "nbconvert_exporter": "python",
   "pygments_lexer": "ipython3",
   "version": "3.8.7"
  },
  "orig_nbformat": 4
 },
 "nbformat": 4,
 "nbformat_minor": 2
}
